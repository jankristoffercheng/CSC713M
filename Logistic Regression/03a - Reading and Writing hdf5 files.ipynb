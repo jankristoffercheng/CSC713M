{
 "cells": [
  {
   "cell_type": "markdown",
   "metadata": {
    "deletable": true,
    "editable": true
   },
   "source": [
    "# Reading and Writing HDF5 Files\n",
    "\n",
    "Most of the time, your data will be in separate files which will be stored in separate spaces in your memory (specially true for image data). This is not efficient since we have to load the data one by one during training. A better way is to store all the data into one file so they are mapped in a contiguous space in the memory. However, this will pose another problem when your data is too big to fit in your memory. Memory mapped file systems / databases such as HDF5 addresses this problem by directly reading data from your storage and only loading the data you are currently reading into memory. It also provides a seemless interface that works as if you are working with a giant matrix. \n",
    "\n",
    "**In this notebook, you will learn to:**\n",
    "- Write data into an hdf5 file\n",
    "    - store (multiple) data sets in one hdf5 file\n",
    "- Read data from an hdf5 file.\n",
    "\n",
    "# Don't forget to install the h5py package and Pillow to read and write images\n",
    "**`pip install Pillow`**\n",
    "\n",
    "**`pip install h5py`**"
   ]
  },
  {
   "cell_type": "code",
   "execution_count": null,
   "metadata": {
    "collapsed": true,
    "deletable": true,
    "editable": true
   },
   "outputs": [],
   "source": [
    "import h5py\n",
    "import matplotlib.pyplot as plt\n",
    "from scipy import misc\n",
    "import numpy as np\n",
    "import os\n",
    "\n",
    "%matplotlib inline"
   ]
  },
  {
   "cell_type": "markdown",
   "metadata": {
    "deletable": true,
    "editable": true
   },
   "source": [
    "**Dataset**: For this exercise, we will be working with $64 \\times 64$ images stored as separate `png` files in the `cat_train` and `cat_test` folders. The folders also include a text file (`labels.txt`) that encodes the ground truth labels for each image."
   ]
  },
  {
   "cell_type": "code",
   "execution_count": null,
   "metadata": {
    "collapsed": true,
    "deletable": true,
    "editable": true
   },
   "outputs": [],
   "source": [
    "train_path = \"cat_train\"\n",
    "test_path = \"cat_test\"\n",
    "\n",
    "# get the list of file names in each folder\n",
    "train_filenames = []\n",
    "for file in os.listdir(train_path):\n",
    "    if file.endswith(\".png\"):\n",
    "        train_filenames.append(\"/\".join([train_path, file]))\n",
    "        \n",
    "test_filenames = []\n",
    "for file in os.listdir(test_path):\n",
    "    if file.endswith(\".png\"):\n",
    "        test_filenames.append(\"/\".join([test_path, file]))"
   ]
  },
  {
   "cell_type": "code",
   "execution_count": null,
   "metadata": {
    "collapsed": false,
    "deletable": true,
    "editable": true
   },
   "outputs": [],
   "source": [
    "num_train = len(train_filenames)\n",
    "num_test = len(test_filenames)\n",
    "\n",
    "print(\"Number of training images =\", num_train)\n",
    "print(\"Number of test images =\", num_test)"
   ]
  },
  {
   "cell_type": "markdown",
   "metadata": {
    "deletable": true,
    "editable": true
   },
   "source": [
    "# Create hdf5 and write data into it"
   ]
  },
  {
   "cell_type": "code",
   "execution_count": null,
   "metadata": {
    "collapsed": true,
    "deletable": true,
    "editable": true
   },
   "outputs": [],
   "source": [
    "# create a blank hdf5 file. You can think of this as a dictionary which can store data referenced/indexed by keys\n",
    "saveFile = h5py.File('cat_dataset.hdf5','w')"
   ]
  },
  {
   "cell_type": "code",
   "execution_count": null,
   "metadata": {
    "collapsed": true,
    "deletable": true,
    "editable": true
   },
   "outputs": [],
   "source": [
    "img_height = 64\n",
    "img_width = 64\n",
    "\n",
    "# The create_dataset function adds keys to your hdf5 file. \n",
    "# The important parameters are:\n",
    "# (1) the name of the key\n",
    "# (2) the shape of the data that will be stored. \n",
    "#     For images it is usually in the format (N, H, W, C) \n",
    "#     where N is the number of images, H is the height in pixels,\n",
    "#     W is the width in pixels, and C is the number of channels (3 for colored images representing RGB)\n",
    "# (3) the data type\n",
    "\n",
    "# create datasets for the training images and labels\n",
    "train_images = saveFile.create_dataset(\"train_x\", shape=(num_train, img_height, img_width,3), dtype='float32')\n",
    "train_labels = saveFile.create_dataset(\"train_y\", shape=(num_train,1), dtype='int32')"
   ]
  },
  {
   "cell_type": "code",
   "execution_count": null,
   "metadata": {
    "collapsed": true,
    "deletable": true,
    "editable": true
   },
   "outputs": [],
   "source": [
    "for i in range(num_train):\n",
    "    # read the images under `cat_train`\n",
    "    img = misc.imread(train_filenames[i])\n",
    "    # normalize images to [0,1] and store it in the hdf5 file under the \"train_x\" key/dataset.\n",
    "    train_images[i] = img / 255. "
   ]
  },
  {
   "cell_type": "code",
   "execution_count": null,
   "metadata": {
    "collapsed": false,
    "deletable": true,
    "editable": true
   },
   "outputs": [],
   "source": [
    "# randomly read data to check if the write was successful\n",
    "\n",
    "randIdx = np.arange(num_train)\n",
    "np.random.shuffle(randIdx)\n",
    "plt.figure(figsize=(6,6))\n",
    "for i in range(9):\n",
    "    plt.subplot(3,3,i+1)\n",
    "    plt.imshow(train_images[randIdx[i]])\n",
    "    plt.axis('off')\n",
    "    plt.title(randIdx[i])"
   ]
  },
  {
   "cell_type": "code",
   "execution_count": null,
   "metadata": {
    "collapsed": true,
    "deletable": true,
    "editable": true
   },
   "outputs": [],
   "source": [
    "# create datasets for the testing images and labels\n",
    "test_images = saveFile.create_dataset(\"test_x\", shape=(num_test, img_height, img_width,3), dtype='float32')\n",
    "test_labels = saveFile.create_dataset(\"test_y\", shape=(num_test,1), dtype='int32')"
   ]
  },
  {
   "cell_type": "code",
   "execution_count": null,
   "metadata": {
    "collapsed": true,
    "deletable": true,
    "editable": true
   },
   "outputs": [],
   "source": [
    "for i in range(num_test):\n",
    "    # read the images under `cat_test`\n",
    "    img = misc.imread(test_filenames[i])\n",
    "    # normalize images to [0,1] and store it in the hdf5 file under the \"test_x\" key/dataset.\n",
    "    test_images[i] = img / 255. #normalize images to [0,1]"
   ]
  },
  {
   "cell_type": "code",
   "execution_count": null,
   "metadata": {
    "collapsed": false,
    "deletable": true,
    "editable": true
   },
   "outputs": [],
   "source": [
    "# randomly read data to check if the write was successful\n",
    "\n",
    "randIdx = np.arange(num_test)\n",
    "np.random.shuffle(randIdx)\n",
    "plt.figure(figsize=(6,6))\n",
    "for i in range(9):\n",
    "    plt.subplot(3,3,i+1)\n",
    "    plt.imshow(test_images[randIdx[i]])\n",
    "    plt.axis('off')\n",
    "    plt.title(randIdx[i])"
   ]
  },
  {
   "cell_type": "code",
   "execution_count": null,
   "metadata": {
    "collapsed": true,
    "deletable": true,
    "editable": true
   },
   "outputs": [],
   "source": [
    "# read the corresponding labels for the train and test images\n",
    "\n",
    "with open(train_path + \"/labels.txt\",\"r\") as f:\n",
    "    i = 0\n",
    "    for l in f:\n",
    "        # store the labels in the hdf5 file under the \"train_y\" key/dataset\n",
    "        train_labels[i] = int(l)\n",
    "        i += 1\n",
    "        \n",
    "with open(test_path + \"/labels.txt\",\"r\") as f:\n",
    "    i = 0\n",
    "    for l in f:\n",
    "        # store the labels in the hdf5 file under the \"text_y\" key/dataset\n",
    "        test_labels[i] = int(l)\n",
    "        i += 1"
   ]
  },
  {
   "cell_type": "code",
   "execution_count": null,
   "metadata": {
    "collapsed": true,
    "deletable": true,
    "editable": true
   },
   "outputs": [],
   "source": [
    "# close the hdf5 file writer.\n",
    "saveFile.close()"
   ]
  },
  {
   "cell_type": "markdown",
   "metadata": {
    "deletable": true,
    "editable": true
   },
   "source": [
    "# Read hdf5 file that you just created"
   ]
  },
  {
   "cell_type": "code",
   "execution_count": null,
   "metadata": {
    "collapsed": true,
    "deletable": true,
    "editable": true
   },
   "outputs": [],
   "source": [
    "# Open the hdf5 in read mode.\n",
    "readHdf5 = h5py.File('cat_dataset.hdf5','r')"
   ]
  },
  {
   "cell_type": "code",
   "execution_count": null,
   "metadata": {
    "collapsed": false,
    "deletable": true,
    "editable": true
   },
   "outputs": [],
   "source": [
    "# prints the existing keys inside the hdf5 file.\n",
    "for key in readHdf5.keys():\n",
    "    print(key)"
   ]
  },
  {
   "cell_type": "code",
   "execution_count": null,
   "metadata": {
    "collapsed": false,
    "deletable": true,
    "editable": true
   },
   "outputs": [],
   "source": [
    "print(\"Train images shape =\",readHdf5[\"train_x\"].shape)\n",
    "print(\"Train labels shape =\",readHdf5[\"train_y\"].shape)\n",
    "print(\"Test images shape =\",readHdf5[\"test_x\"].shape)\n",
    "print(\"Test labels shape =\",readHdf5[\"test_y\"].shape)"
   ]
  },
  {
   "cell_type": "code",
   "execution_count": null,
   "metadata": {
    "collapsed": false,
    "deletable": true,
    "editable": true
   },
   "outputs": [],
   "source": [
    "# randomly read and show images stored in the hdf5 file\n",
    "\n",
    "randIdx = np.arange(num_train)\n",
    "np.random.shuffle(randIdx)\n",
    "plt.figure(figsize=(6,6))\n",
    "for i in range(9):\n",
    "    plt.subplot(3,3,i+1)\n",
    "    plt.imshow(readHdf5[\"train_x\"][randIdx[i]])\n",
    "    plt.axis('off')\n",
    "    plt.title(\"Idx = \" + str(randIdx[i]) +\", y = \" + str(readHdf5[\"train_y\"][randIdx[i]]))"
   ]
  },
  {
   "cell_type": "code",
   "execution_count": null,
   "metadata": {
    "collapsed": false,
    "deletable": true,
    "editable": true
   },
   "outputs": [],
   "source": [
    "# randomly read and show images stored in the hdf5 file\n",
    "\n",
    "randIdx = np.arange(num_test)\n",
    "np.random.shuffle(randIdx)\n",
    "plt.figure(figsize=(6,6))\n",
    "for i in range(9):\n",
    "    plt.subplot(3,3,i+1)\n",
    "    plt.imshow(readHdf5[\"test_x\"][randIdx[i]])\n",
    "    plt.axis('off')\n",
    "    plt.title(\"Idx = \" + str(randIdx[i]) +\", y = \" + str(readHdf5[\"test_y\"][randIdx[i]]))"
   ]
  },
  {
   "cell_type": "code",
   "execution_count": null,
   "metadata": {
    "collapsed": true,
    "deletable": true,
    "editable": true
   },
   "outputs": [],
   "source": []
  }
 ],
 "metadata": {
  "kernelspec": {
   "display_name": "Python 3",
   "language": "python",
   "name": "python3"
  },
  "language_info": {
   "codemirror_mode": {
    "name": "ipython",
    "version": 3
   },
   "file_extension": ".py",
   "mimetype": "text/x-python",
   "name": "python",
   "nbconvert_exporter": "python",
   "pygments_lexer": "ipython3",
   "version": "3.6.0"
  }
 },
 "nbformat": 4,
 "nbformat_minor": 1
}

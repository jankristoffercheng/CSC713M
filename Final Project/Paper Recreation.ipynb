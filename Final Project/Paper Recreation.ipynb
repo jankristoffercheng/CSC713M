{
 "cells": [
  {
   "cell_type": "markdown",
   "metadata": {},
   "source": [
    "# Thumbs up? Sentiment Classification using Machine Learning Techniques\n",
    "by Bo Pang, Lillian Lee and Shivakumar Vaithyanathan"
   ]
  },
  {
   "cell_type": "markdown",
   "metadata": {},
   "source": [
    "Read all files"
   ]
  },
  {
   "cell_type": "code",
   "execution_count": 1,
   "metadata": {
    "collapsed": false
   },
   "outputs": [
    {
     "name": "stdout",
     "output_type": "stream",
     "text": [
      "Negative: 700\n",
      "Positive: 700\n",
      "Total: 1400\n"
     ]
    }
   ],
   "source": [
    "from file_reader import FileReader\n",
    "\n",
    "negPath = 'tokens/neg/'\n",
    "posPath = 'tokens/pos/'\n",
    "\n",
    "fileReader = FileReader()\n",
    "\n",
    "negatives = fileReader.getTexts(negPath)\n",
    "positives = fileReader.getTexts(posPath)\n",
    "allTexts = negatives + positives\n",
    "\n",
    "print('Negative:', len(negatives))\n",
    "print('Positive:', len(positives))\n",
    "print('Total:', len(allTexts))\n",
    "\n",
    "N = len(negatives)"
   ]
  },
  {
   "cell_type": "markdown",
   "metadata": {},
   "source": [
    "Negation for unigram feature"
   ]
  },
  {
   "cell_type": "code",
   "execution_count": 2,
   "metadata": {
    "collapsed": false
   },
   "outputs": [],
   "source": [
    "from features import TextNegator\n",
    "\n",
    "textNegator = TextNegator()\n",
    "\n",
    "negatedNegatives = textNegator.getNegated(negatives)\n",
    "negatedPositives = textNegator.getNegated(positives)"
   ]
  },
  {
   "cell_type": "code",
   "execution_count": 3,
   "metadata": {
    "collapsed": false
   },
   "outputs": [
    {
     "name": "stdout",
     "output_type": "stream",
     "text": [
      "700\n"
     ]
    }
   ],
   "source": [
    "print(len(negatedNegatives))"
   ]
  },
  {
   "cell_type": "markdown",
   "metadata": {},
   "source": [
    "Get unigrams of negated texts"
   ]
  },
  {
   "cell_type": "code",
   "execution_count": 4,
   "metadata": {
    "collapsed": false
   },
   "outputs": [],
   "source": [
    "from features import UnigramFeature\n",
    "\n",
    "negatedTexts = negatedNegatives + negatedPositives\n",
    "\n",
    "unigramFeature = UnigramFeature()\n",
    "unigramFeature.process(negatedTexts)"
   ]
  },
  {
   "cell_type": "code",
   "execution_count": 5,
   "metadata": {
    "collapsed": false
   },
   "outputs": [],
   "source": [
    "from features import BigramFeature\n",
    "\n",
    "bigramFeature = BigramFeature()\n",
    "bigramFeature.process(allTexts)"
   ]
  },
  {
   "cell_type": "code",
   "execution_count": 6,
   "metadata": {
    "collapsed": false
   },
   "outputs": [
    {
     "name": "stdout",
     "output_type": "stream",
     "text": [
      "233\n"
     ]
    }
   ],
   "source": [
    "nFold = 3\n",
    "nPerFold = int(N/nFold)\n",
    "print(nPerFold)"
   ]
  },
  {
   "cell_type": "code",
   "execution_count": 34,
   "metadata": {
    "collapsed": false
   },
   "outputs": [],
   "source": [
    "import numpy as np\n",
    "from sklearn.naive_bayes import MultinomialNB\n",
    "from sklearn.svm import SVC"
   ]
  },
  {
   "cell_type": "code",
   "execution_count": 35,
   "metadata": {
    "collapsed": true
   },
   "outputs": [],
   "source": [
    "featuresNegative = unigramFeature.get(negatedNegatives, type='freq')\n",
    "featuresPositive = unigramFeature.get(negatedPositives, type='freq')"
   ]
  },
  {
   "cell_type": "code",
   "execution_count": 37,
   "metadata": {
    "collapsed": false
   },
   "outputs": [
    {
     "name": "stdout",
     "output_type": "stream",
     "text": [
      "[[ 1.  1.  1. ...,  1.  1.  1.]\n",
      " [ 1.  1.  1. ...,  1.  1.  1.]\n",
      " [ 1.  1.  1. ...,  1.  1.  1.]\n",
      " ..., \n",
      " [ 1.  1.  1. ...,  1.  1.  1.]\n",
      " [ 1.  1.  1. ...,  1.  1.  1.]\n",
      " [ 1.  1.  1. ...,  1.  1.  1.]]\n"
     ]
    }
   ],
   "source": [
    "print(featuresNegative)"
   ]
  },
  {
   "cell_type": "code",
   "execution_count": 36,
   "metadata": {
    "collapsed": false
   },
   "outputs": [
    {
     "name": "stdout",
     "output_type": "stream",
     "text": [
      "0.551502145923\n",
      "0.555793991416\n"
     ]
    }
   ],
   "source": [
    "from sklearn.metrics import accuracy_score\n",
    "\n",
    "batches = {'batch': [], 'X': [], 'y': []}\n",
    "for i in range(nFold):\n",
    "    batches['batch'].append(i)\n",
    "    batches['X'].append(np.concatenate((featuresNegative[nPerFold*i:nPerFold*i+nPerFold], featuresPositive[nPerFold*i:nPerFold*i+nPerFold])))\n",
    "    batches['y'].append(np.append(np.zeros(nPerFold), np.ones(nPerFold)))\n",
    "\n",
    "batches['batch'] = np.array(batches['batch'])\n",
    "batches['X'] = np.array(batches['X'])\n",
    "batches['y'] = np.array(batches['y'])\n",
    "\n",
    "accuracies = {'nb': [], 'svm': []}\n",
    "nbAccuracy = 0\n",
    "svmAccuracy = 0\n",
    "for i in range(nFold):\n",
    "    trainX = batches['X'][batches['batch'] != i]\n",
    "    trainX = trainX.reshape(trainX.shape[0]*trainX.shape[1],-1)\n",
    "    trainY = batches['y'][batches['batch'] != i]\n",
    "    trainY = np.ravel(trainY.reshape(trainY.shape[0]*trainY.shape[1],-1))\n",
    "    \n",
    "    testX = batches['X'][i]\n",
    "    testY = batches['y'][i]\n",
    "    \n",
    "    nb = MultinomialNB()\n",
    "    nb.fit(trainX, trainY)\n",
    "    nbAccuracy += accuracy_score(nb.predict(testX), testY)\n",
    "\n",
    "    svm = SVC()\n",
    "    svm.fit(trainX, trainY)\n",
    "    svmAccuracy += accuracy_score(svm.predict(testX), testY)\n",
    "    \n",
    "nbAccuracy /= nFold\n",
    "print(nbAccuracy)\n",
    "svmAccuracy /= nFold\n",
    "print(svmAccuracy)"
   ]
  },
  {
   "cell_type": "code",
   "execution_count": 10,
   "metadata": {
    "collapsed": false
   },
   "outputs": [
    {
     "name": "stdout",
     "output_type": "stream",
     "text": [
      "oryat\n"
     ]
    }
   ],
   "source": [
    "if 0 in trainX:\n",
    "    print('pwet')\n",
    "else:\n",
    "    print('oryat')"
   ]
  },
  {
   "cell_type": "code",
   "execution_count": null,
   "metadata": {
    "collapsed": true
   },
   "outputs": [],
   "source": []
  }
 ],
 "metadata": {
  "anaconda-cloud": {},
  "kernelspec": {
   "display_name": "Python [conda root]",
   "language": "python",
   "name": "conda-root-py"
  },
  "language_info": {
   "codemirror_mode": {
    "name": "ipython",
    "version": 3
   },
   "file_extension": ".py",
   "mimetype": "text/x-python",
   "name": "python",
   "nbconvert_exporter": "python",
   "pygments_lexer": "ipython3",
   "version": "3.5.2"
  }
 },
 "nbformat": 4,
 "nbformat_minor": 1
}
